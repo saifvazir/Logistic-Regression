{
 "cells": [
  {
   "cell_type": "markdown",
   "metadata": {},
   "source": [
    "## Logistic Regression with SGD"
   ]
  },
  {
   "cell_type": "markdown",
   "metadata": {},
   "source": [
    "To begin you first need to install all dependencies, using:\n",
    "\n",
    "    pip install -r requirements.txt"
   ]
  },
  {
   "cell_type": "code",
   "execution_count": 1,
   "metadata": {},
   "outputs": [],
   "source": [
    "from __future__ import division\n",
    "import numpy as np\n",
    "import matplotlib.pyplot as plt\n",
    "\n",
    "from math import exp, log\n",
    "import os\n",
    "import pickle\n",
    "\n",
    "from skimage import io\n",
    "from skimage.color import rgb2gray\n",
    "from skimage.feature import hog\n",
    "\n",
    "from sklearn.metrics import accuracy_score\n",
    "from sklearn.metrics import precision_recall_curve\n",
    "from sklearn.metrics import roc_curve"
   ]
  },
  {
   "cell_type": "code",
   "execution_count": 2,
   "metadata": {},
   "outputs": [],
   "source": [
    "%matplotlib inline"
   ]
  },
  {
   "cell_type": "markdown",
   "metadata": {},
   "source": [
    "### load the dataset"
   ]
  },
  {
   "cell_type": "code",
   "execution_count": 3,
   "metadata": {},
   "outputs": [],
   "source": [
    "### set your image dir here\n",
    "IMAGE_DIR = \"./data/\""
   ]
  },
  {
   "cell_type": "code",
   "execution_count": 4,
   "metadata": {},
   "outputs": [],
   "source": [
    "def load_dataset(subset=\"train\"):\n",
    "    \"\"\"\n",
    "    1. subset = \"train\", \"val\", \"test\"\n",
    "    2. About the dataset: in \"train\",\"val\" subset, the first half of images are images of hands, the rest half are images of not-hand. \n",
    "    3. extract features from HoG\n",
    "    \"\"\"\n",
    "    path = os.path.join(IMAGE_DIR,subset)\n",
    "    name_list = os.listdir(path)\n",
    "    print(\"Number of images in {}-set: {}\".format(subset, len(name_list)))\n",
    "    #HoG returns 324 features\n",
    "    X = np.zeros(shape=(len(name_list), 324))\n",
    "\n",
    "    if subset == \"train\" or subset == \"val\":\n",
    "        #Make sure that we have equal number of positive and negative class images\n",
    "        assert len(name_list)%2 == 0\n",
    "        count = len(name_list)//2\n",
    "        y = np.array(count*[1] + count*[0])\n",
    "        for idx_true in range(count):\n",
    "            img_name = os.path.join(path,str(idx_true)+\".png\")\n",
    "            img = io.imread(img_name)\n",
    "            img = rgb2gray(img)\n",
    "            vec = hog(img)\n",
    "            X[idx_true, :] = vec\n",
    "        \n",
    "        for idx in range(count):\n",
    "            idx_false = idx + count\n",
    "            img_name = os.path.join(path,str(idx_false)+\".png\")\n",
    "            img = io.imread(img_name)\n",
    "            img = rgb2gray(img)\n",
    "            vec = hog(img)\n",
    "            X[idx_false, :] = vec\n",
    "        return X, y        \n",
    "    else:\n",
    "        for idx in range(len(name_list)):\n",
    "            img_name = os.path.join(path, str(idx)+\".png\")\n",
    "            img = io.imread(img_name)\n",
    "            img = rgb2gray(img)\n",
    "            vec = hog(img)\n",
    "            X[idx, :] = vec\n",
    "        return X"
   ]
  },
  {
   "cell_type": "markdown",
   "metadata": {},
   "source": [
    "### load the data"
   ]
  },
  {
   "cell_type": "code",
   "execution_count": 5,
   "metadata": {},
   "outputs": [
    {
     "name": "stdout",
     "output_type": "stream",
     "text": [
      "Number of images in train-set: 8170\n"
     ]
    },
    {
     "name": "stderr",
     "output_type": "stream",
     "text": [
      "C:\\Users\\Saif\\Anaconda2\\lib\\site-packages\\skimage\\feature\\_hog.py:119: skimage_deprecation: Default value of `block_norm`==`L1` is deprecated and will be changed to `L2-Hys` in v0.15\n",
      "  'be changed to `L2-Hys` in v0.15', skimage_deprecation)\n"
     ]
    },
    {
     "name": "stdout",
     "output_type": "stream",
     "text": [
      "Number of images in val-set: 2724\n",
      "Number of images in test-set: 5542\n"
     ]
    }
   ],
   "source": [
    "X_train, y_train = load_dataset(\"train\")\n",
    "X_val, y_val = load_dataset(\"val\")\n",
    "X_test = load_dataset(\"test\")"
   ]
  },
  {
   "cell_type": "markdown",
   "metadata": {},
   "source": [
    "### displaying images"
   ]
  },
  {
   "cell_type": "code",
   "execution_count": 6,
   "metadata": {},
   "outputs": [],
   "source": [
    "def display(img_path):\n",
    "    \"\"\"\n",
    "    visualize the img\n",
    "    \"\"\"\n",
    "    img = io.imread(img_path)\n",
    "    print(img_path)\n",
    "    io.imshow(img)\n",
    "    io.show()"
   ]
  },
  {
   "cell_type": "code",
   "execution_count": 7,
   "metadata": {},
   "outputs": [
    {
     "name": "stdout",
     "output_type": "stream",
     "text": [
      "./data/train/1.png\n"
     ]
    },
    {
     "name": "stderr",
     "output_type": "stream",
     "text": [
      "C:\\Users\\Saif\\Anaconda2\\lib\\site-packages\\skimage\\io\\_plugins\\matplotlib_plugin.py:51: FutureWarning: Conversion of the second argument of issubdtype from `float` to `np.floating` is deprecated. In future, it will be treated as `np.float64 == np.dtype(float).type`.\n",
      "  out_of_range_float = (np.issubdtype(image.dtype, np.float) and\n",
      "C:\\Users\\Saif\\AppData\\Roaming\\Python\\Python27\\site-packages\\matplotlib\\axes\\_base.py:1428: MatplotlibDeprecationWarning: The 'box-forced' keyword argument is deprecated since 2.2.\n",
      "  \" since 2.2.\", cbook.mplDeprecation)\n"
     ]
    },
    {
     "data": {
      "image/png": "[encoded data removed]",
      "text/plain": [
       "<Figure size 432x288 with 1 Axes>"
      ]
     },
     "metadata": {
      "needs_background": "light"
     },
     "output_type": "display_data"
    }
   ],
   "source": [
    "display(IMAGE_DIR+\"train/1.png\")"
   ]
  },
  {
   "cell_type": "markdown",
   "metadata": {},
   "source": [
    "### Logistic regression"
   ]
  },
  {
   "cell_type": "markdown",
   "metadata": {},
   "source": [
    "#### Main function in the class\n",
    "1. \\__init\\__() which sets the hyper parameters\n",
    "2. sigmoid()\n",
    "3. __init_param(), initializes the parameters .\n",
    "4. fit(): train the data\n",
    "5. predict_proba(): predict the probability of the sample belonging to the positive class\n",
    "6. predict(): classify the sample\n",
    "\n",
    "\n",
    "Feel free to overlook the rest of the parts of the code, it's just for convenience.\n"
   ]
  },
  {
   "cell_type": "code",
   "execution_count": 8,
   "metadata": {},
   "outputs": [],
   "source": [
    "class LogisticRegression:\n",
    "    \"\"\"\n",
    "    Logistic Regression\n",
    "    \"\"\"\n",
    "    def __init__(self, eta0=0.1, eta1=1, m=16, max_epoch=1000, delta=0.0001):\n",
    "        \"\"\"\n",
    "        m is the batch_size\n",
    "        \"\"\"\n",
    "        self.__init = True # whether to initial the parameters\n",
    "        self.__eta0 = eta0\n",
    "        self.__eta1 = eta1\n",
    "        self.__delta = delta\n",
    "        self.__m = m\n",
    "        self.__max_epoch = max_epoch\n",
    "        self.epochs = 0\n",
    "        self.cost_l = []\n",
    "        self.accur= []\n",
    "        \n",
    "    def sigmoid(self, x):\n",
    "        return 1.0 / (1 + np.exp(-x))\n",
    "    \n",
    "    def __init_param(self):\n",
    "        \"\"\"\n",
    "        Weights initialized using a normal distribution here: you can change the distribution.\n",
    "        \"\"\"\n",
    "        d = self.__dimension\n",
    "        self.__wt = np.random.randn(1,d)\n",
    "        self.__bias = np.random.randn()\n",
    "        return self.__wt,self.__bias\n",
    "    \n",
    "    \n",
    "    def fit(self, X, y, X_val=None, y_val=None):\n",
    "        \"\"\"\n",
    "        Recommended input:\n",
    "        X: n x d array,\n",
    "        y: n x 1 array or list\n",
    "        \"\"\"\n",
    "        n, d = X.shape\n",
    "        y=np.reshape(y,(n,1))\n",
    "        self.__dimension = d\n",
    "        \n",
    "        if self.__init:\n",
    "            self.__init_param()\n",
    "        \n",
    "        ### write your code here ### \n",
    "\n",
    "        ############################\n",
    "        \n",
    "        \n",
    "        for epoch in range(0,self.__max_epoch):\n",
    "            self.epochs+=1\n",
    "            eta=(self.__eta0/(self.__eta1+epoch+1))\n",
    "            indices=np.arange(n,dtype=int)\n",
    "            indices=np.random.permutation(indices)\n",
    "            X_shuffled,y_shuffled=[],[]\n",
    "            for each in range(0,len(indices)):\n",
    "                X_shuffled.append(X[[indices[each]],:])\n",
    "                y_shuffled.append(y[[indices[each]],:])\n",
    "            X_new=np.array(X_shuffled)\n",
    "            y_new=np.array(y_shuffled)\n",
    "            X_new=np.reshape(X_new,X.shape)\n",
    "            y_new=np.reshape(y_new,y.shape)\n",
    "            X_new=np.transpose(X_new)\n",
    "            ones=np.ones(shape=(1,n))\n",
    "            X_new=np.vstack((X_new,ones))\n",
    "            theta,bias=self.get_param()\n",
    "            theta_old=np.append(theta,bias)\n",
    "            theta_new=np.append(theta,bias)\n",
    "            rem=n%self.__m\n",
    "            iter_no=1\n",
    "            for i in range(0,int(n/self.__m)-rem):\n",
    "                batch_X=X_new[:,(iter_no-1)*self.__m:(iter_no)*self.__m]\n",
    "                batch_y=y_new[(iter_no-1)*self.__m:(iter_no)*self.__m,:]\n",
    "                sig=[]\n",
    "                for j in range(0,self.__m):\n",
    "                    sig.append(self.sigmoid(np.dot(theta_new,batch_X[:,[j]])))\n",
    "                sig=np.array(sig)\n",
    "                sig=np.reshape(sig,(batch_X.shape[1],1))\n",
    "                diff=np.subtract(batch_y,sig)\n",
    "                X_temp=np.copy(batch_X)\n",
    "                for j in range(0,self.__m):\n",
    "                    X_temp[:,[j]]=np.multiply(diff.item((j,0)),X_temp[:,[j]])\n",
    "                sum_der=np.sum(X_temp,axis=1)\n",
    "                grad=np.multiply(-(eta/(self.__m)),sum_der)\n",
    "                theta_new=np.subtract(theta_new,grad)\n",
    "                self.__wt=np.copy(theta_new)\n",
    "                self.__wt=np.reshape(self.__wt,(d+1,1))\n",
    "                self.__wt=np.delete(self.__wt,d,0)\n",
    "                self.__bias=theta_new.item(d)\n",
    "                iter_no+=1\n",
    "            base=(iter_no-1)*self.__m\n",
    "            for i in range(0,rem):\n",
    "                batch_X=X_new[:,base+i*(self.__m+1):base+(i+1)*(self.__m+1)]\n",
    "                batch_y=y_new[base+i*(self.__m+1):base+(i+1)*(self.__m+1),:]\n",
    "                sig=[]\n",
    "                for j in range(0,self.__m+1):\n",
    "                    sig.append(self.sigmoid(np.dot(theta_new,batch_X[:,[j]])))\n",
    "                sig=np.array(sig)\n",
    "                sig=np.reshape(sig,(batch_X.shape[1],1))\n",
    "                diff=np.subtract(batch_y,sig)\n",
    "                X_temp=np.copy(batch_X)\n",
    "                for j in range(0,self.__m+1):\n",
    "                    X_temp[:,[j]]=np.multiply(diff.item((j,0)),X_temp[:,[j]])\n",
    "                sum_der=np.sum(X_temp,axis=1)\n",
    "                grad=np.multiply(-(eta/(self.__m+1)),sum_der)\n",
    "                theta_new=np.subtract(theta_new,grad)\n",
    "                self.__wt=np.copy(theta_new)\n",
    "                self.__wt=np.reshape(self.__wt,(d+1,1))\n",
    "                self.__wt=np.delete(self.__wt,d,0)\n",
    "                self.__bias=theta_new.item(d)\n",
    "                iter_no+=1\n",
    "            l_old,l_new=0.0,0.0\n",
    "            for i in range(0,n):\n",
    "                if epoch==0:\n",
    "                    l_old+=y_new.item((i,0))*np.dot(theta_old,X_new[:,i])-np.log(1+np.exp(np.dot(theta_old,X_new[:,i])))\n",
    "                l_new+=y_new.item((i,0))*np.dot(theta_new,X_new[:,i])-np.log(1+np.exp(np.dot(theta_new,X_new[:,i])))\n",
    "            if epoch==0:\n",
    "                l_old=-(l_old/n)\n",
    "            else:\n",
    "                l_old=self.cost_l[epoch-1]\n",
    "            l_new=-(l_new/n)\n",
    "            self.cost_l.append(l_new)\n",
    "            self.accur.append(accuracy_score(y_new,self.predict(X_new)))\n",
    "            if l_new>(1-self.__delta)*l_old:\n",
    "                break\n",
    "            else:\n",
    "                self.__wt=np.copy(theta_new)\n",
    "                self.__wt=np.reshape(self.__wt,(d+1,1))\n",
    "                self.__wt=np.delete(self.__wt,d,0)\n",
    "                self.__bias=theta_new.item(d)\n",
    "        return self.__wt\n",
    "    \n",
    "    def predict_proba(self, X):\n",
    "        \"\"\"\n",
    "        predict the probility of the sample\n",
    "        You can refer to my code below\n",
    "        \"\"\"\n",
    "        d,batch_n=X.shape\n",
    "        prob=[]\n",
    "        theta_p,bias_p=self.get_param()\n",
    "        theta_p=np.append(theta_p,bias_p)\n",
    "        for i in range(batch_n):\n",
    "            prob.append(self.sigmoid(np.dot(theta_p,X[:,[i]])))\n",
    "        prob=np.array(prob)\n",
    "        prob=np.reshape(prob,(batch_n,1))\n",
    "        return prob\n",
    "#         return a vector containing the probability values of the samples belonging to the positive class\n",
    "    \n",
    "    def predict(self, X):\n",
    "        \"\"\"\n",
    "        Classify the sample\n",
    "        \"\"\"\n",
    "        pred=[]\n",
    "        for i in range(0,X.shape[1]):\n",
    "            if self.predict_proba(X[:,[i]]).item(0,0)>=0.50:\n",
    "                pred.append(1)\n",
    "            else:\n",
    "                pred.append(0)\n",
    "        pred=np.array(pred)\n",
    "        pred=np.reshape(pred,(X.shape[1],1))\n",
    "        return pred\n",
    "#         return self.predict_proba(X) >= 0.5 # attention: this will give result in bool, you need to convert it to int for submission. \n",
    "    \n",
    "    \n",
    "    def get_param(self):\n",
    "        \"\"\"\n",
    "        output:\n",
    "            parameters: wt(1*d array), b(scalar)\n",
    "        \"\"\"\n",
    "        return [self.__wt, self.__bias]\n",
    "    \n",
    "    def save_model(self, save_file):\n",
    "        \"\"\"\n",
    "        save model to .pkl file\n",
    "        \"\"\"\n",
    "        with open(save_file,\"wb\") as file:\n",
    "            pickle.dump([self.__wt, self.__bias],file)\n",
    "\n",
    "    def load_model(self, load_file):\n",
    "        \"\"\"\n",
    "        load model from .pkl file\n",
    "        \"\"\"\n",
    "        with open(load_file,\"rb\") as file:\n",
    "            param = pickle.load(file)\n",
    "        self.__wt = param[0]\n",
    "        self.__bias = param[1]\n",
    "        self.__init = False\n",
    "        return self.__wt, self.__bias"
   ]
  },
  {
   "cell_type": "markdown",
   "metadata": {},
   "source": [
    "## Question 2.3"
   ]
  },
  {
   "cell_type": "markdown",
   "metadata": {
    "scrolled": true
   },
   "source": [
    "### 1. Baseline Model"
   ]
  },
  {
   "cell_type": "code",
   "execution_count": 9,
   "metadata": {
    "scrolled": true
   },
   "outputs": [],
   "source": [
    "LR = LogisticRegression()\n",
    "LR.fit(X_train,y_train)\n",
    "LR.save_model(\"LR1.pkl\")"
   ]
  },
  {
   "cell_type": "markdown",
   "metadata": {},
   "source": [
    "(a) Number of epochs till termination = 365"
   ]
  },
  {
   "cell_type": "code",
   "execution_count": 23,
   "metadata": {},
   "outputs": [],
   "source": [
    "## this function predicts the output based on the probabilities\n",
    "\n",
    "def predict_output(probabilities):\n",
    "    pred=[]\n",
    "    for i in range(0,probabilities.shape[0]):\n",
    "        if probabilities.item(i,0)>=0.50:\n",
    "            pred.append(1)\n",
    "        else:\n",
    "            pred.append(0)\n",
    "    p=np.array(pred)\n",
    "    p=np.reshape(p,(probabilities.shape[0],1))\n",
    "    return pred"
   ]
  },
  {
   "cell_type": "code",
   "execution_count": 25,
   "metadata": {},
   "outputs": [
    {
     "data": {
      "image/png": "[encoded data removed]",
      "text/plain": [
       "<Figure size 432x288 with 1 Axes>"
      ]
     },
     "metadata": {
      "needs_background": "light"
     },
     "output_type": "display_data"
    },
    {
     "name": "stdout",
     "output_type": "stream",
     "text": [
      "final value of L(theta)  0.5175504365325073\n"
     ]
    }
   ],
   "source": [
    "# (b) Plot L(theta) vs num_epochs\n",
    "num_epochs=np.arange(LR.epochs)\n",
    "plt.plot(num_epochs,LR.cost_l,'ro')\n",
    "plt.xlabel(\"epochs\")\n",
    "plt.ylabel(\"L(theta)\")\n",
    "plt.show()\n",
    "print \"final value of L(theta) \",LR.cost_l[LR.epochs-1]"
   ]
  },
  {
   "cell_type": "markdown",
   "metadata": {},
   "source": [
    "(c) Final value of L($\\theta$) after optimization = 0.5175504365325073"
   ]
  },
  {
   "cell_type": "markdown",
   "metadata": {},
   "source": [
    "### 2. Experimenting with ($\\eta_0$,$\\eta_1$)"
   ]
  },
  {
   "cell_type": "code",
   "execution_count": 12,
   "metadata": {
    "scrolled": true
   },
   "outputs": [
    {
     "name": "stdout",
     "output_type": "stream",
     "text": [
      "[257, 302, 341, 395, 446, 69, 219, 247, 308, 360, 302, 324, 406, 375, 400, 72, 93, 84, 113, 87, 9, 107, 72, 46, 49]\n",
      "[0.3231485447122478, 0.3317651754202214, 0.3357897665793229, 0.3439471189951527, 0.3452764347792867, 0.29680946550912407, 0.2945098954372119, 0.2966079306246149, 0.30168055570877217, 0.3063306538872352, 0.48459024427511965, 0.5015642384042457, 0.5326420622786475, 0.523067162139962, 0.5419086385989232, 0.6451168894580391, 0.6989538331474503, 0.658768950325488, 0.7011087483672581, 0.6763403883095895, 0.6965464596767512, 0.6544164116240243, 0.6755106922602975, 0.7333689490944877, 0.7563060802083036]\n"
     ]
    }
   ],
   "source": [
    "# Experimentation code goes here\n",
    "eta0=[1,2.5,0.1,0.01,0.001]\n",
    "eta1=[0.1,1,2,5,10]\n",
    "no_of_epochs=[]\n",
    "value_of_l=[]\n",
    "for i in range(len(eta0)):\n",
    "    for j in range(len(eta1)):\n",
    "        LR_i=LogisticRegression(eta0[i],eta1[j])\n",
    "        LR_i.fit(X_train,y_train)\n",
    "        no_of_epochs.append(LR_i.epochs)\n",
    "        value_of_l.append(LR_i.cost_l[LR_i.epochs-1])\n",
    "        del LR_i\n",
    "print no_of_epochs\n",
    "print value_of_l\n",
    "\n"
   ]
  },
  {
   "cell_type": "markdown",
   "metadata": {},
   "source": [
    "(a) Best value for, $\\eta_0$ = 2.5, $\\eta_1$ = 0.1\n",
    "\n",
    "Number of epochs for training = 69\n",
    "\n",
    "Final value of L($\\theta$) = 0.29680946550912407"
   ]
  },
  {
   "cell_type": "code",
   "execution_count": 26,
   "metadata": {
    "scrolled": true
   },
   "outputs": [
    {
     "data": {
      "text/plain": [
       "Text(0,0.5,'L(theta)')"
      ]
     },
     "execution_count": 26,
     "metadata": {},
     "output_type": "execute_result"
    },
    {
     "data": {
      "image/png": "[encoded data removed]",
      "text/plain": [
       "<Figure size 432x288 with 1 Axes>"
      ]
     },
     "metadata": {
      "needs_background": "light"
     },
     "output_type": "display_data"
    }
   ],
   "source": [
    "# (b) For best (eta_0, eta_1) plot L(theta) vs num_epochs\n",
    "LR_best=LogisticRegression(2.5,0.1)\n",
    "LR_best.fit(X_train,y_train)\n",
    "plt.plot(np.arange(LR_best.epochs),LR_best.cost_l,'ro')\n",
    "plt.xlabel(\"epochs\")\n",
    "plt.ylabel(\"L(theta)\")"
   ]
  },
  {
   "cell_type": "markdown",
   "metadata": {},
   "source": [
    "### 3. Evaluating on validation set"
   ]
  },
  {
   "cell_type": "code",
   "execution_count": 28,
   "metadata": {
    "scrolled": true
   },
   "outputs": [
    {
     "data": {
      "text/plain": [
       "<matplotlib.legend.Legend at 0x155528b0>"
      ]
     },
     "execution_count": 28,
     "metadata": {},
     "output_type": "execute_result"
    },
    {
     "data": {
      "image/png": "[encoded data removed]",
      "text/plain": [
       "<Figure size 432x288 with 1 Axes>"
      ]
     },
     "metadata": {
      "needs_background": "light"
     },
     "output_type": "display_data"
    }
   ],
   "source": [
    "# (a) Plot L(theta) vs num_epochs for both training and validation set on the same figure\n",
    "LR_val=LogisticRegression(2.5,0.1)\n",
    "LR_val.fit(X_val,y_val)\n",
    "plt.plot(np.arange(LR_best.epochs),LR_best.cost_l,'r',label='training')   ##used from above cell\n",
    "plt.plot(np.arange(LR_val.epochs),LR_val.cost_l,'b',label='validation')\n",
    "plt.xlabel(\"epochs\")\n",
    "plt.ylabel(\"L(theta)\")\n",
    "plt.legend()"
   ]
  },
  {
   "cell_type": "code",
   "execution_count": 29,
   "metadata": {},
   "outputs": [
    {
     "data": {
      "text/plain": [
       "<matplotlib.legend.Legend at 0x149a77b0>"
      ]
     },
     "execution_count": 29,
     "metadata": {},
     "output_type": "execute_result"
    },
    {
     "data": {
      "image/png": "[encoded data removed]",
      "text/plain": [
       "<Figure size 432x288 with 1 Axes>"
      ]
     },
     "metadata": {
      "needs_background": "light"
     },
     "output_type": "display_data"
    }
   ],
   "source": [
    "# (b) Plot Accuracy vs num_epochs for both training and validation set on the same figure\n",
    "plt.plot(np.arange(LR_best.epochs),LR_best.accur,label='training')\n",
    "plt.plot(np.arange(LR_val.epochs),LR_val.accur,label='validation')\n",
    "plt.xlabel(\"epochs\")\n",
    "plt.ylabel(\"accuracy\")\n",
    "plt.legend()"
   ]
  },
  {
   "cell_type": "markdown",
   "metadata": {},
   "source": [
    "### 4. ROC and Precision-Recall curves"
   ]
  },
  {
   "cell_type": "code",
   "execution_count": 30,
   "metadata": {},
   "outputs": [
    {
     "data": {
      "image/png": "[encoded data removed]",
      "text/plain": [
       "<Figure size 432x288 with 1 Axes>"
      ]
     },
     "metadata": {
      "needs_background": "light"
     },
     "output_type": "display_data"
    }
   ],
   "source": [
    "#(a) Plot ROC curve on validation data\n",
    "from sklearn.metrics import auc\n",
    "X_v=np.copy(X_val)\n",
    "X_v=np.transpose(X_v)\n",
    "one=np.ones(shape=(1,X_v.shape[1]))\n",
    "X_v=np.vstack((X_v,one))\n",
    "#print X_v.shape\n",
    "val_probs=LR_best.predict_proba(X_v)\n",
    "val_pred=predict_output(val_probs)\n",
    "#print np.count_nonzero(val_pred)\n",
    "#print LR_best.get_param()\n",
    "fpr, tpr, threshold = roc_curve(y_val, val_pred)\n",
    "roc_auc = auc(fpr, tpr)\n",
    "plt.title('Receiver Operating Characteristic')\n",
    "plt.plot(fpr, tpr, 'b', label = 'AUC = %0.2f' % roc_auc)\n",
    "plt.legend(loc = 'lower right')\n",
    "plt.plot([0, 1], [0, 1],'r--')\n",
    "plt.xlim([0, 1])\n",
    "plt.ylim([0, 1])\n",
    "plt.ylabel('True Positive Rate')\n",
    "plt.xlabel('False Positive Rate')\n",
    "plt.show()"
   ]
  },
  {
   "cell_type": "markdown",
   "metadata": {},
   "source": [
    "Area under curve = 0.88"
   ]
  },
  {
   "cell_type": "code",
   "execution_count": 31,
   "metadata": {},
   "outputs": [
    {
     "name": "stdout",
     "output_type": "stream",
     "text": [
      "Average precision-recall score: 0.83\n"
     ]
    },
    {
     "data": {
      "text/plain": [
       "Text(0.5,1,'2-class Precision-Recall curve: AP=0.83')"
      ]
     },
     "execution_count": 31,
     "metadata": {},
     "output_type": "execute_result"
    },
    {
     "data": {
      "image/png": "[encoded data removed]",
      "text/plain": [
       "<Figure size 432x288 with 1 Axes>"
      ]
     },
     "metadata": {
      "needs_background": "light"
     },
     "output_type": "display_data"
    }
   ],
   "source": [
    "#(a) Plot Precision-Recall curve on validation data\n",
    "from sklearn.utils.fixes import signature\n",
    "from sklearn.metrics import average_precision_score\n",
    "average_precision = average_precision_score(y_val, val_pred)\n",
    "print('Average precision-recall score: {0:0.2f}'.format(\n",
    "      average_precision))\n",
    "precision, recall, thresholds = precision_recall_curve(y_val, val_pred)\n",
    "step_kwargs = ({'step': 'post'}\n",
    "               if 'step' in signature(plt.fill_between).parameters\n",
    "               else {})\n",
    "plt.step(recall, precision, color='b', alpha=0.2,\n",
    "         where='post')\n",
    "plt.fill_between(recall, precision, alpha=0.2, color='b', **step_kwargs)\n",
    "\n",
    "plt.xlabel('Recall')\n",
    "plt.ylabel('Precision')\n",
    "plt.ylim([0.0, 1.05])\n",
    "plt.xlim([0.0, 1.0])\n",
    "plt.title('2-class Precision-Recall curve: AP={0:0.2f}'.format(average_precision))"
   ]
  },
  {
   "cell_type": "markdown",
   "metadata": {},
   "source": [
    "Average Precision = 0.83"
   ]
  },
  {
   "cell_type": "markdown",
   "metadata": {},
   "source": [
    "## Question 2.4"
   ]
  },
  {
   "cell_type": "markdown",
   "metadata": {},
   "source": [
    "### 1. Submission"
   ]
  },
  {
   "cell_type": "code",
   "execution_count": 18,
   "metadata": {},
   "outputs": [],
   "source": [
    "import pandas as pd\n",
    "def submission(y_pred):\n",
    "    \"\"\"\n",
    "    generate the submission.csv for kaggle\n",
    "    input args:\n",
    "        y_pred: 5542x1 array or list contains 5542 elements\n",
    "        \n",
    "    \"\"\"\n",
    "    save_file = pd.DataFrame(columns=[\"Id\",\"Class\"])\n",
    "    id = np.array([idx for idx in range(5542)])\n",
    "    save_file[\"Id\"] = id\n",
    "    save_file[\"Class\"]= y_pred\n",
    "    save_file.to_csv(\"submission.csv\",index=0)       "
   ]
  },
  {
   "cell_type": "markdown",
   "metadata": {},
   "source": [
    "#### Generate the submission.csv"
   ]
  },
  {
   "cell_type": "code",
   "execution_count": 19,
   "metadata": {},
   "outputs": [
    {
     "name": "stdout",
     "output_type": "stream",
     "text": [
      "(324, 5542)\n",
      "fitted\n",
      "(5542, 1)\n"
     ]
    }
   ],
   "source": [
    "# code goes here\n",
    "L_sub=LogisticRegression(2.5,2)\n",
    "X_new_train=np.vstack((X_train,X_val))\n",
    "y_new_train=np.hstack((y_train,y_val))\n",
    "L_sub.fit(X_new_train,y_new_train)\n",
    "X_t=np.copy(X_test)\n",
    "X_t=np.transpose(X_t)\n",
    "print X_t.shape\n",
    "ones=np.ones(shape=(1,X_t.shape[1]))\n",
    "X_t=np.vstack((X_t,ones))\n",
    "#LR_sub=LogisticRegression(2.5,10)\n",
    "#LR_sub.fit(X_train,y_train)\n",
    "print \"fitted\"\n",
    "y_pred=L_sub.predict(X_t)\n",
    "print y_pred.shape\n",
    "submission(y_pred)"
   ]
  },
  {
   "cell_type": "markdown",
   "metadata": {},
   "source": [
    "Best obtained accuracy on Public Leader-board = 87.333%"
   ]
  },
  {
   "cell_type": "code",
   "execution_count": null,
   "metadata": {},
   "outputs": [],
   "source": []
  }
 ],
 "metadata": {
  "kernelspec": {
   "display_name": "Python 2",
   "language": "python",
   "name": "python2"
  },
  "language_info": {
   "codemirror_mode": {
    "name": "ipython",
    "version": 2
   },
   "file_extension": ".py",
   "mimetype": "text/x-python",
   "name": "python",
   "nbconvert_exporter": "python",
   "pygments_lexer": "ipython2",
   "version": "2.7.15"
  }
 },
 "nbformat": 4,
 "nbformat_minor": 2
}
